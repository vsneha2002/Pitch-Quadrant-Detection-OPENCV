{
 "cells": [
  {
   "cell_type": "code",
   "execution_count": 4,
   "metadata": {},
   "outputs": [
    {
     "name": "stdout",
     "output_type": "stream",
     "text": [
      "Bounce= 1\n",
      "Quadrant 4\n",
      "bounce_time 0.8095987411487018\n",
      "frame 49\n",
      "Bounce= 2\n",
      "Outside\n",
      "bounce_time 1.6026750590086547\n",
      "frame 97\n",
      "Bounce= 3\n",
      "Quadrant 1\n",
      "frame 179\n",
      "bounce_time 2.957513768686074\n",
      "Bounce= 4\n",
      "Quadrant 1\n",
      "frame 324\n",
      "bounce_time 5.353265145554682\n",
      "Bounce= 5\n",
      "Quadrant 2\n",
      "bounce_time 6.377655389457121\n",
      "frame 386\n",
      "Bounce= 6\n",
      "Quadrant 2\n",
      "bounce_time 8.822974036191976\n",
      "frame 534\n",
      "Bounce= 7\n",
      "Quadrant 3\n",
      "bounce_time 12.011801730920535\n",
      "frame 727\n",
      "Bounce= 8\n",
      "Quadrant 3\n",
      "bounce_time 14.80409126671912\n",
      "frame 896\n",
      "Bounce= 9\n",
      "Outside\n",
      "bounce_time 15.332808811959087\n",
      "frame 928\n",
      "Bounce= 10\n",
      "Outside\n",
      "bounce_time 16.918961447678992\n",
      "frame 1024\n",
      "Bounce= 11\n",
      "Quadrant 2\n",
      "bounce_time 18.009441384736427\n",
      "frame 1090\n",
      "Bounce= 12\n",
      "Quadrant 2\n",
      "bounce_time 20.124311565696303\n",
      "frame 1218\n"
     ]
    },
    {
     "ename": "error",
     "evalue": "OpenCV(4.5.5) D:\\a\\opencv-python\\opencv-python\\opencv\\modules\\imgproc\\src\\resize.cpp:4052: error: (-215:Assertion failed) !ssize.empty() in function 'cv::resize'\n",
     "output_type": "error",
     "traceback": [
      "\u001b[1;31m---------------------------------------------------------------------------\u001b[0m",
      "\u001b[1;31merror\u001b[0m                                     Traceback (most recent call last)",
      "\u001b[1;32m<ipython-input-4-7da86d4a68ee>\u001b[0m in \u001b[0;36m<module>\u001b[1;34m\u001b[0m\n\u001b[0;32m     40\u001b[0m \u001b[1;32mwhile\u001b[0m \u001b[1;32mTrue\u001b[0m\u001b[1;33m:\u001b[0m\u001b[1;33m\u001b[0m\u001b[1;33m\u001b[0m\u001b[0m\n\u001b[0;32m     41\u001b[0m     \u001b[0msuccess\u001b[0m\u001b[1;33m,\u001b[0m \u001b[0mimg\u001b[0m\u001b[1;33m=\u001b[0m\u001b[0mcap\u001b[0m\u001b[1;33m.\u001b[0m\u001b[0mread\u001b[0m\u001b[1;33m(\u001b[0m\u001b[1;33m)\u001b[0m\u001b[1;33m\u001b[0m\u001b[1;33m\u001b[0m\u001b[0m\n\u001b[1;32m---> 42\u001b[1;33m     \u001b[0mimg\u001b[0m \u001b[1;33m=\u001b[0m \u001b[0mcv2\u001b[0m\u001b[1;33m.\u001b[0m\u001b[0mresize\u001b[0m\u001b[1;33m(\u001b[0m\u001b[0mimg\u001b[0m\u001b[1;33m,\u001b[0m \u001b[1;33m(\u001b[0m\u001b[1;36m0\u001b[0m\u001b[1;33m,\u001b[0m \u001b[1;36m0\u001b[0m\u001b[1;33m)\u001b[0m\u001b[1;33m,\u001b[0m \u001b[1;32mNone\u001b[0m\u001b[1;33m,\u001b[0m \u001b[1;36m0.35\u001b[0m\u001b[1;33m,\u001b[0m \u001b[1;36m0.35\u001b[0m\u001b[1;33m)\u001b[0m\u001b[1;33m\u001b[0m\u001b[1;33m\u001b[0m\u001b[0m\n\u001b[0m\u001b[0;32m     43\u001b[0m     \u001b[0mimgcolor\u001b[0m\u001b[1;33m,\u001b[0m \u001b[0mmask\u001b[0m\u001b[1;33m=\u001b[0m \u001b[0mmyColorFinder\u001b[0m\u001b[1;33m.\u001b[0m\u001b[0mupdate\u001b[0m\u001b[1;33m(\u001b[0m\u001b[0mimg\u001b[0m\u001b[1;33m,\u001b[0m\u001b[0mhsvVals\u001b[0m\u001b[1;33m)\u001b[0m\u001b[1;33m\u001b[0m\u001b[1;33m\u001b[0m\u001b[0m\n\u001b[0;32m     44\u001b[0m     \u001b[0mimgContours\u001b[0m\u001b[1;33m,\u001b[0m\u001b[0mcontours\u001b[0m\u001b[1;33m=\u001b[0m\u001b[0mcvzone\u001b[0m\u001b[1;33m.\u001b[0m\u001b[0mfindContours\u001b[0m\u001b[1;33m(\u001b[0m\u001b[0mimg\u001b[0m\u001b[1;33m,\u001b[0m\u001b[0mmask\u001b[0m\u001b[1;33m,\u001b[0m\u001b[0mminArea\u001b[0m\u001b[1;33m=\u001b[0m\u001b[1;36m500\u001b[0m\u001b[1;33m)\u001b[0m\u001b[1;33m\u001b[0m\u001b[1;33m\u001b[0m\u001b[0m\n",
      "\u001b[1;31merror\u001b[0m: OpenCV(4.5.5) D:\\a\\opencv-python\\opencv-python\\opencv\\modules\\imgproc\\src\\resize.cpp:4052: error: (-215:Assertion failed) !ssize.empty() in function 'cv::resize'\n"
     ]
    }
   ],
   "source": [
    "import cv2\n",
    "import cvzone\n",
    "import numpy as np\n",
    "import math\n",
    "import datetime\n",
    "from cvzone.ColorModule import  ColorFinder\n",
    "cap = cv2.VideoCapture('Hackathon video.mov')\n",
    "myColorFinder =  ColorFinder(False)\n",
    "hsvVals={'hmin': 21, 'smin': 0, 'vmin': 0, 'hmax': 89, 'smax': 255, 'vmax': 255}\n",
    "poslist=[]\n",
    "pointsList = []\n",
    "totalframecount= int(cap.get(cv2.CAP_PROP_FRAME_COUNT))\n",
    "\n",
    "\n",
    "def gradient(pt1,pt2):\n",
    "    if (pt1[0]-pt2[0])==0:\n",
    "        return (pt1[1]-pt2[1])\n",
    "    else:\n",
    "        return (pt1[1]-pt2[1])/(pt1[0]-pt2[0])\n",
    "def getAngle(pt1,pt2,pt3):\n",
    "    m1 = gradient(pt1,pt2)\n",
    "    m2 = gradient(pt2,pt3)\n",
    "    if 1+(m2*m1)!=0:\n",
    "        angR = math.atan((m2-m1)/(1+(m2*m1)))\n",
    "    else:\n",
    "        angR = math.atan(m2-m1)\n",
    "    angD = round(math.degrees(angR))\n",
    "    return angD\n",
    "Angle=[]\n",
    "pitch=[]\n",
    "bounce_count=1\n",
    "start_time=datetime.datetime.now()\n",
    "start_time=start_time.timestamp()\n",
    "time_list=[]\n",
    "quadrant=[]\n",
    "bounce_number=[]\n",
    "time_bounce=[]\n",
    "frame_number=[]\n",
    "\n",
    "while True:\n",
    "    success, img=cap.read()\n",
    "    img = cv2.resize(img, (0, 0), None, 0.35, 0.35)\n",
    "    imgcolor, mask= myColorFinder.update(img,hsvVals)\n",
    "    imgContours,contours=cvzone.findContours(img,mask,minArea=500)\n",
    "    area=[(15,250),(430,20),(900,155),((540,550))]\n",
    "    quad1=[(15,250),(250,115),(470,200),(230,370)]\n",
    "    quad2=[(250,115),(430,20),(630,75),(470,200)]\n",
    "    quad3=[(230,370),(470,200),(750,310),(540,550)]\n",
    "    quad4=[(470,200),(630,75),(900,155),(750,310)]\n",
    "    if contours:\n",
    "        current_time=datetime.datetime.now()\n",
    "        current_time=current_time.timestamp()\n",
    "        lapsed_time=(current_time-start_time)\n",
    "       \n",
    "        time_list.append(round(lapsed_time,3))\n",
    "        poslist.append(contours[0]['center'])\n",
    "        cv2.circle(imgContours,(contours[0]['center']),5,(0,255,0),cv2.FILLED)\n",
    "        if len(poslist)>2:\n",
    "            a=getAngle(tuple(poslist[-3]),tuple(poslist[-2]),tuple(poslist[-1]))\n",
    "            Angle.append(a)\n",
    "            cv2.circle(imgContours,(poslist[-3]),5,(255,0,255),cv2.FILLED)\n",
    "            cv2.circle(imgContours,(poslist[-2]),5,(255,0,255),cv2.FILLED)\n",
    "            cv2.circle(imgContours,(poslist[-1]),5,(255,0,255),cv2.FILLED)    \n",
    "    else:\n",
    "        val=0\n",
    "        if len(Angle)>1:\n",
    "            maxi=max(Angle)\n",
    "            i=Angle.index(maxi)\n",
    "            if Angle[i]==Angle[i+1]:\n",
    "                i=i+1\n",
    "            bounce_number.append(bounce_count)\n",
    "            print(\"Bounce=\",bounce_count)\n",
    "            if poslist[i+1]:\n",
    "                pitch=poslist[i+1]\n",
    "                pitch_time=time_list[i+1]\n",
    "            else:\n",
    "                pitch=poslist[i]\n",
    "                pitch_time=time_list[i]\n",
    "            \n",
    "            \n",
    "            #print(\"Time=\",pitch_time)\n",
    "            #print(\"Pitch point\",pitch)\n",
    "            (cx,cy)=pitch\n",
    "            res=cv2.pointPolygonTest(np.array(quad1,np.int32),(int(cx),int(cy)),False)\n",
    "            if res>=0:\n",
    "                print(\"Quadrant 1\")\n",
    "                val=1\n",
    "                cv2.polylines(imgContours,[np.array(quad1,np.int32)],True,(15,220,10),6)\n",
    "                cv2.circle(imgContours,(cx,cy),5,(0,255,0),cv2.FILLED)\n",
    "                a=int(cap.get(cv2.CAP_PROP_POS_FRAMES))\n",
    "                print(\"frame\",a)\n",
    "                a1=(a/totalframecount)*21\n",
    "                print(\"bounce_time\",a1)\n",
    "                frame_number.append(a)\n",
    "                time_bounce.append(round(a1,3))\n",
    "                quadrant.append(\"1\")\n",
    "            res=cv2.pointPolygonTest(np.array(quad2,np.int32),(int(cx),int(cy)),False)\n",
    "            if res>=0:\n",
    "                print(\"Quadrant 2\")\n",
    "                val=1\n",
    "                cv2.polylines(imgContours,[np.array(quad2,np.int32)],True,(15,220,10),6)\n",
    "                cv2.circle(imgContours,(cx,cy),5,(0,255,0),cv2.FILLED)\n",
    "                b=int(cap.get(cv2.CAP_PROP_POS_FRAMES))\n",
    "                b1=(b/totalframecount)*21\n",
    "                print(\"bounce_time\",b1)\n",
    "                print(\"frame\",b)\n",
    "                frame_number.append(b)\n",
    "                time_bounce.append(round(b1,3))\n",
    "                quadrant.append(\"2\")\n",
    "     \n",
    "            res=cv2.pointPolygonTest(np.array(quad3,np.int32),(int(cx),int(cy)),False)\n",
    "            if res>=0:\n",
    "                print(\"Quadrant 3\")\n",
    "                val=1\n",
    "                cv2.polylines(imgContours,[np.array(quad3,np.int32)],True,(15,220,10),6)\n",
    "                cv2.circle(imgContours,(cx,cy),5,(0,255,0),cv2.FILLED)\n",
    "                c=int(cap.get(cv2.CAP_PROP_POS_FRAMES))\n",
    "                c1=(c/totalframecount)*21\n",
    "                print(\"bounce_time\",c1)\n",
    "                frame_number.append(c)\n",
    "                quadrant.append(\"3\")\n",
    "                time_bounce.append(round(c1,3))\n",
    "                print(\"frame\",c)\n",
    "            res=cv2.pointPolygonTest(np.array(quad4,np.int32),(int(cx),int(cy)),False)\n",
    "            if res>=0:\n",
    "                print(\"Quadrant 4\")\n",
    "                val=1\n",
    "                cv2.polylines(imgContours,[np.array(quad4,np.int32)],True,(15,220,10),6)\n",
    "                cv2.circle(imgContours,(cx,cy),5,(0,255,0),cv2.FILLED)\n",
    "                d=int(cap.get(cv2.CAP_PROP_POS_FRAMES))\n",
    "                d1=(d/totalframecount)*21\n",
    "                print(\"bounce_time\",d1)\n",
    "                frame_number.append(d)\n",
    "                time_bounce.append(round(d1,3))\n",
    "                quadrant.append(\"4\")\n",
    "                print(\"frame\",d)\n",
    "            if val==0:\n",
    "                print(\"Outside\")\n",
    "                cv2.polylines(imgContours,[np.array(area,np.int32)],True,(15,220,10),6)\n",
    "                e=int(cap.get(cv2.CAP_PROP_POS_FRAMES))\n",
    "                e1=(e/totalframecount)*21\n",
    "                \n",
    "                print(\"bounce_time\",e1)\n",
    "                time_bounce.append(round(e1,3))\n",
    "                frame_number.append(e)\n",
    "                quadrant.append(\"out_of_bound\")\n",
    "                print(\"frame\",e)\n",
    "            bounce_count+=1\n",
    "            cv2.circle(imgContours,(pitch),5,(0,0,255),cv2.FILLED)\n",
    "        poslist=[]\n",
    "        Angle=[]\n",
    "        time_list=[]\n",
    "    \n",
    "    cv2.imshow(\"Image\", imgContours)\n",
    "    cv2.waitKey(1)\n",
    "\n",
    "cap.release()\n",
    "cv2.destroyAllWindows()"
   ]
  },
  {
   "cell_type": "code",
   "execution_count": 5,
   "metadata": {},
   "outputs": [
    {
     "name": "stdout",
     "output_type": "stream",
     "text": [
      "['4', 'out_of_bound', '1', '1', '2', '2', '3', '3', 'out_of_bound', 'out_of_bound', '2', '2']\n"
     ]
    }
   ],
   "source": [
    "print(quadrant)"
   ]
  },
  {
   "cell_type": "code",
   "execution_count": 6,
   "metadata": {},
   "outputs": [
    {
     "name": "stdout",
     "output_type": "stream",
     "text": [
      "[1, 2, 3, 4, 5, 6, 7, 8, 9, 10, 11, 12]\n"
     ]
    }
   ],
   "source": [
    "print(bounce_number)"
   ]
  },
  {
   "cell_type": "code",
   "execution_count": 7,
   "metadata": {},
   "outputs": [
    {
     "name": "stdout",
     "output_type": "stream",
     "text": [
      "[0.81, 1.603, 2.958, 5.353, 6.378, 8.823, 12.012, 14.804, 15.333, 16.919, 18.009, 20.124]\n"
     ]
    }
   ],
   "source": [
    "print(time_bounce)"
   ]
  },
  {
   "cell_type": "code",
   "execution_count": 8,
   "metadata": {},
   "outputs": [
    {
     "name": "stdout",
     "output_type": "stream",
     "text": [
      "[49, 97, 179, 324, 386, 534, 727, 896, 928, 1024, 1090, 1218]\n"
     ]
    }
   ],
   "source": [
    "print(frame_number)"
   ]
  },
  {
   "cell_type": "code",
   "execution_count": 9,
   "metadata": {},
   "outputs": [],
   "source": [
    "import pandas as pd"
   ]
  },
  {
   "cell_type": "code",
   "execution_count": 10,
   "metadata": {},
   "outputs": [],
   "source": [
    "df=pd.DataFrame({\n",
    "    \"bounce_number\":bounce_number,\n",
    "    \"time_of_bounce\":time_bounce,\n",
    "    \"quadrant_of_bounce\":quadrant,\n",
    "    \"frame_number\":frame_number\n",
    "})\n",
    "\n",
    "df.to_csv(\"output.csv\",index=False)"
   ]
  },
  {
   "cell_type": "code",
   "execution_count": 11,
   "metadata": {},
   "outputs": [
    {
     "data": {
      "text/html": [
       "<div>\n",
       "<style scoped>\n",
       "    .dataframe tbody tr th:only-of-type {\n",
       "        vertical-align: middle;\n",
       "    }\n",
       "\n",
       "    .dataframe tbody tr th {\n",
       "        vertical-align: top;\n",
       "    }\n",
       "\n",
       "    .dataframe thead th {\n",
       "        text-align: right;\n",
       "    }\n",
       "</style>\n",
       "<table border=\"1\" class=\"dataframe\">\n",
       "  <thead>\n",
       "    <tr style=\"text-align: right;\">\n",
       "      <th></th>\n",
       "      <th>bounce_number</th>\n",
       "      <th>time_of_bounce</th>\n",
       "      <th>quadrant_of_bounce</th>\n",
       "      <th>frame_number</th>\n",
       "    </tr>\n",
       "  </thead>\n",
       "  <tbody>\n",
       "    <tr>\n",
       "      <th>0</th>\n",
       "      <td>1</td>\n",
       "      <td>0.810</td>\n",
       "      <td>4</td>\n",
       "      <td>49</td>\n",
       "    </tr>\n",
       "    <tr>\n",
       "      <th>1</th>\n",
       "      <td>2</td>\n",
       "      <td>1.603</td>\n",
       "      <td>out_of_bound</td>\n",
       "      <td>97</td>\n",
       "    </tr>\n",
       "    <tr>\n",
       "      <th>2</th>\n",
       "      <td>3</td>\n",
       "      <td>2.958</td>\n",
       "      <td>1</td>\n",
       "      <td>179</td>\n",
       "    </tr>\n",
       "    <tr>\n",
       "      <th>3</th>\n",
       "      <td>4</td>\n",
       "      <td>5.353</td>\n",
       "      <td>1</td>\n",
       "      <td>324</td>\n",
       "    </tr>\n",
       "    <tr>\n",
       "      <th>4</th>\n",
       "      <td>5</td>\n",
       "      <td>6.378</td>\n",
       "      <td>2</td>\n",
       "      <td>386</td>\n",
       "    </tr>\n",
       "  </tbody>\n",
       "</table>\n",
       "</div>"
      ],
      "text/plain": [
       "   bounce_number  time_of_bounce quadrant_of_bounce  frame_number\n",
       "0              1           0.810                  4            49\n",
       "1              2           1.603       out_of_bound            97\n",
       "2              3           2.958                  1           179\n",
       "3              4           5.353                  1           324\n",
       "4              5           6.378                  2           386"
      ]
     },
     "execution_count": 11,
     "metadata": {},
     "output_type": "execute_result"
    }
   ],
   "source": [
    "df.head()"
   ]
  },
  {
   "cell_type": "code",
   "execution_count": null,
   "metadata": {},
   "outputs": [],
   "source": []
  }
 ],
 "metadata": {
  "kernelspec": {
   "display_name": "Python 3",
   "language": "python",
   "name": "python3"
  },
  "language_info": {
   "codemirror_mode": {
    "name": "ipython",
    "version": 3
   },
   "file_extension": ".py",
   "mimetype": "text/x-python",
   "name": "python",
   "nbconvert_exporter": "python",
   "pygments_lexer": "ipython3",
   "version": "3.8.5"
  }
 },
 "nbformat": 4,
 "nbformat_minor": 4
}
